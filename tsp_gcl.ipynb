{
  "cells": [
    {
      "cell_type": "markdown",
      "metadata": {
        "id": "vwHQfW_cCdf-"
      },
      "source": [
        "# Traveling Salesman Problem\n",
        "\n",
        "## Objective and Prerequisites\n",
        "\n",
        "In this example, you’ll learn how to tackle one of the most famous combinatorial optimization problems in existence: the Traveling Salesman Problem (TSP). The goal of the TSP – to find the shortest possible route that visits each city once and returns to the original city – is simple, but solving the problem is a complex and challenging endeavor. We’ll show you how to do it!\n",
        "\n",
        "This modeling example is at the advanced level, where we assume that you know Python and the Gurobi Python API and that you have advanced knowledge of building mathematical optimization models. Typically, the objective function and/or constraints of these examples are complex or require advanced features of the Gurobi Python API.\n",
        "\n",
        "**Download the Repository** <br />\n",
        "You can download the repository containing this and other examples by clicking [here](https://github.com/Gurobi/modeling-examples/archive/master.zip). "
      ]
    },
    {
      "cell_type": "markdown",
      "metadata": {
        "id": "huwxDNUSCdgC"
      },
      "source": [
        "## Motivation\n",
        "\n",
        "The Traveling Salesman Problem (TSP) is one of the most famous combinatorial optimization problems. This problem is very easy to explain, but very complicated to solve – even for instances with a small number of cities. More detailed information on the TSP can be found in the book The Traveling Salesman Problem: A Computational Study [1], or at the TSP home page [2]. If you are interested in the history and mathematical background of the TSP, we recommend that you watch the video by William Cook [3].\n",
        "\n",
        "The origin of the traveling salesman problem is not very clear; it is mentioned in an 1832 manual for traveling salesman, which included example tours of 45 German cities but was not formulated as a mathematical problem. However, in the 1800s, mathematicians William Rowan Hamilton and Thomas Kirkman devised mathematical formulations of the problem.\n",
        "\n",
        "It seems that the general form of the Traveling Salesman Problem was first studied by Karl Menger in Vienna and Harvard in the 1930s.\n",
        "\n",
        "The problem became more and more popular in the 1950s and 1960s. In particular, George Dantzig, D. Ray Fulkerson, and Selmer M. Johnson at the RAND Corporation solved the 48-state problem by formulating it as a linear programming problem. The methods they described in their paper on this topic set the foundation for future work in combinatorial optimization, especially highlighting the importance of cutting planes.\n",
        "\n",
        "In the early 1970s, the concept of P vs. NP problems created excitement in the theoretical computer science community. In 1972, Richard Karp demonstrated that the Hamiltonian cycle problem was NP-complete, implying that the traveling salesman problem was NP-hard.\n",
        "\n",
        "Increasingly sophisticated codes led to rapid increases in the sizes of the traveling salesman problems solved. Dantzig, Fulkerson, and Johnson had solved a 48-city instance of the problem in 1954. Martin Grötechel more than doubled this 23 years later, solving a 120-city instance in 1977. Harlan Crowder and Manfred W. Padberg again more than doubled this in just 3 years, with a 318-city solution.\n",
        "\n",
        "In 1987, rapid improvements were made, culminating in a 2,392-city solution by Padberg and Giovanni Rinaldi. In the following two decades, great strides were made with David L. Applegate, Robert E. Bixby, Vasek Chvátal, & William J. Cook solving a 3,308-city instance in 1992, a 7,397-city instance in 1994, a 24,978-city instance in 2004, and an 85,900-city instance in 2006 – which is the largest 2-D Euclidean TSP instance ever solved. William Cook et. al. wrote a program called Concorde TSP Solver for solving the TSP [4]. Concorde is a computer code for the symmetric TSP and some related network optimization problems. The code is written in the ANSI C programming language and it has been used to obtain the optimal solutions to the full set of 110 TSPLIB instances, the largest instance is a 109,399 node 3-D “star” instance.\n",
        "\n",
        "The continued interest in the TSP can be explained by its success as a general engine of discovery and a steady stream of new applications. Some of the general applications of the TSP are as follows:\n",
        "* Scheduling and routing problems.\n",
        "* Genome sequencing.\n",
        "* Drilling problems.\n",
        "* Aiming telescopes and x-rays.\n",
        "* Data clustering.\n",
        "* Machine scheduling.\n",
        "\n",
        "We use this classic combinatorial optimization problem to demonstrate how Gurobi can be used to easily and effectively solve small-sized problem instances of the TSP. However, in order to be able to solve larger instances, one needs more sophisticated techniques – such as those implemented in the Concord TSP Solver."
      ]
    },
    {
      "cell_type": "markdown",
      "metadata": {
        "id": "tkh1h8iOCdgE"
      },
      "source": [
        "## Problem Description\n",
        "The TSP can be defined as follows: for a given list of cities and the distances between each pair of them, we want to find the shortest possible route that goes to each city once and returns to the origin city.\n",
        "\n",
        "There is a class of Traveling Salesman Problems that assumes that the distance of going from city $i$ to city $j$  is the same as going form city $j$ to city $i$, this type of Traveling Salesman Problem  is also known as the symmetric Traveling Salesman Problem. In this example, we use Euclidean distances, but the TSP model formulation is valid independent of the way in which the individual distances are determined.\n",
        "\n",
        "\n",
        "## Solution Approach\n",
        "\n",
        "Mathematical programming is a declarative approach where the modeler formulates a mathematical optimization model that captures the key aspects of a complex decision problem. The Gurobi Optimizer solves such models using state-of-the-art mathematics and computer science.\n",
        "\n",
        "A mathematical optimization model has five components, namely:\n",
        "\n",
        "* Sets and indices.\n",
        "* Parameters.\n",
        "* Decision variables.\n",
        "* Objective function(s).\n",
        "* Constraints.\n",
        "\n",
        "We now present a MIP formulation of the TSP that identifies the shortest route that goes to all the cities once and returns to the origin city.\n",
        "\n",
        "## TSP Model Formulation\n",
        "\n",
        "### Sets and Indices\n",
        "$i, j \\in Capitals $: indices and set of US capital cities.\n",
        "\n",
        "$\\text{Pairings}= \\{(i,j) \\in Capitals \\times Capitals \\}$: Set of allowed pairings\n",
        "\n",
        "$S \\subset Capitals$: A subset of the set of US capital cities.\n",
        "\n",
        "$G = (Capitals, Pairings)$: A graph where the set $Capitals$ defines the set of nodes and the set $Pairings$ defines the set of edges. \n",
        "\n",
        "### Parameters \n",
        "\n",
        "$d_{i, j} \\in \\mathbb{R}^+$: Distance from capital city $i$ to capital city $j$, for all $(i, j) \\in Pairings$. \n",
        "\n",
        "Notice that the distance from capital city $i$ to capital city $j$ is the same as the distance from capital city $j$ to capital city $i$, i.e. $d_{i, j} = d_{j, i}$. For this reason, this TSP is also called the symmetric Traveling Salesman Problem.\n",
        "\n",
        "### Decision Variables\n",
        "$x_{i, j} \\in \\{0, 1\\}$: This variable is equal to 1, if we decide to connect city $i$ with city $j$. Otherwise, the decision variable is equal to zero.\n",
        "\n",
        "### Objective Function\n",
        "- **Shortest Route**. Minimize the total distance of a route. A route is a sequence of capital cities where the salesperson visits each city only once and returns to the starting capital city.\n",
        "\n",
        "\\begin{equation}\n",
        "\\text{Min} \\quad Z = \\sum_{(i,j) \\in \\text{Pairings}}d_{i,j} \\cdot x_{i,j}\n",
        "\\tag{0}\n",
        "\\end{equation}\n",
        "\n",
        "### Constraints \n",
        "- **Symmetry Constraints**. For each edge $(i,j)$, ensure that the city capitals $i$ and $j$ are connected, if the former is visited immediately before or after visiting the latter.\n",
        "\n",
        "\\begin{equation}\n",
        "x_{i, j} = x_{j, i} \\quad \\forall (i, j) \\in Pairings\n",
        "\\tag{1}\n",
        "\\end{equation}\n",
        "\n",
        "- **Entering and leaving a capital city**. For each capital city $i$, ensure that this city is connected to two other cities. \n",
        "\n",
        "\\begin{equation}\n",
        "\\sum_{(i,j) \\in \\text{Pairings}}x_{i,j} = 2 \\quad \\forall  i \\in Capitals\n",
        "\\tag{2}\n",
        "\\end{equation}\n",
        "\n",
        "- **Subtour elimination**. These constraints ensure that for any subset of cities $S$ of the set of $Capitals$, there is no cycle. That is, there is no route that visits all the cities in the subset and returns to the origin city.\n",
        "\n",
        "\\begin{equation}\n",
        "\\sum_{(i \\neq j) \\in S}x_{i,j} \\leq |S|-1 \\quad \\forall  S \\subset  Capitals\n",
        "\\tag{3}\n",
        "\\end{equation}\n",
        "\n",
        "- **Remark**. In general, if the number of cities of the TSP is $n$, then the possible number of routes is n\\!.\n",
        "Since there are an exponential number of constraints ($2^{n} - 2$) to eliminate cycles, we use lazy constraints to dynamically eliminate those cycles. "
      ]
    },
    {
      "cell_type": "markdown",
      "metadata": {
        "id": "ISipHJBhCdgF"
      },
      "source": [
        "## Python Implementation\n",
        "\n",
        "Consider a salesperson that needs to visit customers at each state capital of the continental US. The salesperson wants to identify the shortest route that goes to all the state capitals.\n",
        "\n",
        "This modeling example requires the following libraries that are not part of the standard Python distribution:\n",
        "* **folium**: to create maps.\n",
        "* **gurobipy**: provides Gurobi algorithms to solve MIP models.\n"
      ]
    },
    {
      "cell_type": "markdown",
      "metadata": {
        "id": "apsGzCFPCdgG"
      },
      "source": [
        "### Reading Input Data\n",
        "The capital names and coordinates are read from a json file."
      ]
    },
    {
      "cell_type": "code",
      "execution_count": 1,
      "metadata": {
        "id": "wQNczgxnCdgG",
        "outputId": "5fd42c91-b161-458e-f8cf-9c9a68f3dc61",
        "colab": {
          "base_uri": "https://localhost:8080/"
        }
      },
      "outputs": [
        {
          "output_type": "stream",
          "name": "stdout",
          "text": [
            "Looking in indexes: https://pypi.org/simple, https://us-python.pkg.dev/colab-wheels/public/simple/\n",
            "Collecting gurobipy\n",
            "  Downloading gurobipy-9.5.2-cp37-cp37m-manylinux2014_x86_64.whl (11.5 MB)\n",
            "\u001b[K     |████████████████████████████████| 11.5 MB 5.6 MB/s \n",
            "\u001b[?25hInstalling collected packages: gurobipy\n",
            "Successfully installed gurobipy-9.5.2\n"
          ]
        }
      ],
      "source": [
        "%pip install gurobipy"
      ]
    },
    {
      "cell_type": "code",
      "execution_count": 15,
      "metadata": {
        "id": "tSN9ZuLgCdgH"
      },
      "outputs": [],
      "source": [
        "from IPython.core.display import publish_display_data\n",
        "import json\n",
        "\n",
        "# Read capital names and coordinates from json file\n",
        "# try:\n",
        "#   capitals_json = json.load(open('capitals.json'))\n",
        "# except:\n",
        "#   import urllib.request\n",
        "#   url = 'https://raw.githubusercontent.com/Gurobi/modeling-examples/master/traveling_salesman/capitals.json'\n",
        "#   data = urllib.request.urlopen(url).read()\n",
        "#   capitals_json = json.loads(data)\n",
        "import pandas as pd\n",
        "\n",
        "tsp = pd.read_csv(\n",
        "        '/content/dj38.tsp',\n",
        "        sep=\" \",\n",
        "        skiprows=10,\n",
        "        dtype=float,\n",
        "        names=[\"nodeId\", \"lat\", \"lng\"],\n",
        "        skipfooter=0,\n",
        "        engine=\"python\",\n",
        "    )\n",
        "tsp = tsp.sort_values(by=\"nodeId\", inplace=False)\n",
        "\n",
        "\n",
        "capitals = []\n",
        "coordinates = {}\n",
        "for i in range(len(tsp)):\n",
        "    capital = str(i+1)\n",
        "    capitals.append(capital)\n",
        "    coordinates[capital] = (float(tsp.loc[i, 'lat']), float(tsp.loc[i, 'lng']))"
      ]
    },
    {
      "cell_type": "markdown",
      "metadata": {
        "id": "A9i9Uj4NCdgI"
      },
      "source": [
        "### Data computation\n",
        "The following function calculates the distance for each pair of state capitals. Since we are solving the _symmetric_ traveling salesman problem, we use _combinations_ of cities."
      ]
    },
    {
      "cell_type": "code",
      "execution_count": 13,
      "metadata": {
        "id": "TOGQEFG1CdgJ"
      },
      "outputs": [],
      "source": [
        "# import math\n",
        "# from itertools import combinations\n",
        "\n",
        "# # Compute pairwise distance matrix\n",
        "\n",
        "# def distance(city1, city2):\n",
        "#     c1 = coordinates[city1]\n",
        "#     c2 = coordinates[city2]\n",
        "#     diff = (c1[0]-c2[0], c1[1]-c2[1])\n",
        "#     return math.sqrt(diff[0]*diff[0]+diff[1]*diff[1])\n",
        "\n",
        "# dist = {(c1, c2): distance(c1, c2) for c1, c2 in combinations(capitals, 2)}"
      ]
    },
    {
      "cell_type": "markdown",
      "metadata": {
        "id": "bW-zEJjyCdgJ"
      },
      "source": [
        "### Model Code\n",
        "We now write the model for the TSP, by defining decision variables, constraints, and objective function. Because this is the _symmetric_ traveling salesman problem, we can make it more efficient by setting the _object_ x[j,i] to x[i,j], instead of a constraint."
      ]
    },
    {
      "cell_type": "code",
      "execution_count": 4,
      "metadata": {
        "id": "zoQMIzyACdgK"
      },
      "outputs": [],
      "source": [
        "# import gurobipy as gp\n",
        "# from gurobipy import GRB\n",
        "\n",
        "# # tested with Python 3.7 & Gurobi 9.0.0\n",
        "\n",
        "# m = gp.Model()\n",
        "\n",
        "# # Variables: is city 'i' adjacent to city 'j' on the tour?\n",
        "# vars = m.addVars(dist.keys(), obj=dist, vtype=GRB.BINARY, name='x')\n",
        "\n",
        "# # Symmetric direction: Copy the object\n",
        "# for i, j in vars.keys():\n",
        "#     vars[j, i] = vars[i, j]  # edge in opposite direction\n",
        "\n",
        "# # Constraints: two edges incident to each city\n",
        "# cons = m.addConstrs(vars.sum(c, '*') == 2 for c in capitals)"
      ]
    },
    {
      "cell_type": "markdown",
      "metadata": {
        "id": "ynIGzKf-CdgK"
      },
      "source": [
        "### Callback Definition\n",
        "Subtour constraints prevent multiple loops in a TSP tour. Because there are an exponential number of these constraints, we don't want to add them all to the model. Instead, we use a callback function to find violated subtour constraints and add them to the model as lazy constraints."
      ]
    },
    {
      "cell_type": "code",
      "execution_count": 5,
      "metadata": {
        "id": "3NZTvxaZCdgK"
      },
      "outputs": [],
      "source": [
        "# # Callback - use lazy constraints to eliminate sub-tours\n",
        "\n",
        "# def subtourelim(model, where):\n",
        "#     if where == GRB.Callback.MIPSOL:\n",
        "#         # make a list of edges selected in the solution\n",
        "#         vals = model.cbGetSolution(model._vars)\n",
        "#         selected = gp.tuplelist((i, j) for i, j in model._vars.keys()\n",
        "#                              if vals[i, j] > 0.5)\n",
        "#         # find the shortest cycle in the selected edge list\n",
        "#         tour = subtour(selected)\n",
        "#         if len(tour) < len(capitals):\n",
        "#             # add subtour elimination constr. for every pair of cities in subtour\n",
        "#             model.cbLazy(gp.quicksum(model._vars[i, j] for i, j in combinations(tour, 2))\n",
        "#                          <= len(tour)-1)\n",
        "\n",
        "# # Given a tuplelist of edges, find the shortest subtour\n",
        "\n",
        "# def subtour(edges):\n",
        "#     unvisited = capitals[:]\n",
        "#     cycle = capitals[:] # Dummy - guaranteed to be replaced\n",
        "#     while unvisited:  # true if list is non-empty\n",
        "#         thiscycle = []\n",
        "#         neighbors = unvisited\n",
        "#         while neighbors:\n",
        "#             current = neighbors[0]\n",
        "#             thiscycle.append(current)\n",
        "#             unvisited.remove(current)\n",
        "#             neighbors = [j for i, j in edges.select(current, '*')\n",
        "#                          if j in unvisited]\n",
        "#         if len(thiscycle) <= len(cycle):\n",
        "#             cycle = thiscycle # New shortest subtour\n",
        "#     return cycle"
      ]
    },
    {
      "cell_type": "markdown",
      "metadata": {
        "id": "GPz_J3fACdgL"
      },
      "source": [
        "## Solve the model"
      ]
    },
    {
      "cell_type": "code",
      "execution_count": 6,
      "metadata": {
        "id": "NQWE5fd7CdgL"
      },
      "outputs": [],
      "source": [
        "# m._vars = vars\n",
        "# m.Params.lazyConstraints = 1\n",
        "# m.optimize(subtourelim)"
      ]
    },
    {
      "cell_type": "markdown",
      "metadata": {
        "id": "9B3NsGz1CdgL"
      },
      "source": [
        "## Analysis\n",
        "\n",
        "We retrieve the optimal solution of the TSP and verify that the optimal route (or tour) goes to all the cities and returns to the origin city."
      ]
    },
    {
      "cell_type": "code",
      "execution_count": 7,
      "metadata": {
        "id": "YnrnCUBvCdgM"
      },
      "outputs": [],
      "source": [
        "# # Retrieve solution\n",
        "\n",
        "# vals = m.getAttr('x', vars)\n",
        "# selected = gp.tuplelist((i, j) for i, j in vals.keys() if vals[i, j] > 0.5)\n",
        "\n",
        "# tour = subtour(selected)\n",
        "# assert len(tour) == len(capitals)"
      ]
    },
    {
      "cell_type": "markdown",
      "metadata": {
        "id": "ipdW2AfMCdgM"
      },
      "source": [
        "The optimal route is displayed in the following map."
      ]
    },
    {
      "cell_type": "code",
      "source": [
        "tour = path"
      ],
      "metadata": {
        "id": "hN5ikX-DCstX"
      },
      "execution_count": 43,
      "outputs": []
    },
    {
      "cell_type": "code",
      "execution_count": 44,
      "metadata": {
        "id": "K-g_5646CdgM",
        "outputId": "8e5335c2-33a7-472a-db8b-707f3fbaa685",
        "colab": {
          "base_uri": "https://localhost:8080/",
          "height": 685
        }
      },
      "outputs": [
        {
          "output_type": "execute_result",
          "data": {
            "text/plain": [
              "<folium.folium.Map at 0x7fb4da46dad0>"
            ],
            "text/html": [
              "<div style=\"width:100%;\"><div style=\"position:relative;width:100%;height:0;padding-bottom:60%;\"><span style=\"color:#565656\">Make this Notebook Trusted to load map: File -> Trust Notebook</span><iframe srcdoc=\"&lt;!DOCTYPE html&gt;\n",
              "&lt;head&gt;    \n",
              "    &lt;meta http-equiv=&quot;content-type&quot; content=&quot;text/html; charset=UTF-8&quot; /&gt;\n",
              "    \n",
              "        &lt;script&gt;\n",
              "            L_NO_TOUCH = false;\n",
              "            L_DISABLE_3D = false;\n",
              "        &lt;/script&gt;\n",
              "    \n",
              "    &lt;style&gt;html, body {width: 100%;height: 100%;margin: 0;padding: 0;}&lt;/style&gt;\n",
              "    &lt;style&gt;#map {position:absolute;top:0;bottom:0;right:0;left:0;}&lt;/style&gt;\n",
              "    &lt;script src=&quot;https://cdn.jsdelivr.net/npm/leaflet@1.6.0/dist/leaflet.js&quot;&gt;&lt;/script&gt;\n",
              "    &lt;script src=&quot;https://code.jquery.com/jquery-1.12.4.min.js&quot;&gt;&lt;/script&gt;\n",
              "    &lt;script src=&quot;https://maxcdn.bootstrapcdn.com/bootstrap/3.2.0/js/bootstrap.min.js&quot;&gt;&lt;/script&gt;\n",
              "    &lt;script src=&quot;https://cdnjs.cloudflare.com/ajax/libs/Leaflet.awesome-markers/2.0.2/leaflet.awesome-markers.js&quot;&gt;&lt;/script&gt;\n",
              "    &lt;link rel=&quot;stylesheet&quot; href=&quot;https://cdn.jsdelivr.net/npm/leaflet@1.6.0/dist/leaflet.css&quot;/&gt;\n",
              "    &lt;link rel=&quot;stylesheet&quot; href=&quot;https://maxcdn.bootstrapcdn.com/bootstrap/3.2.0/css/bootstrap.min.css&quot;/&gt;\n",
              "    &lt;link rel=&quot;stylesheet&quot; href=&quot;https://maxcdn.bootstrapcdn.com/bootstrap/3.2.0/css/bootstrap-theme.min.css&quot;/&gt;\n",
              "    &lt;link rel=&quot;stylesheet&quot; href=&quot;https://maxcdn.bootstrapcdn.com/font-awesome/4.6.3/css/font-awesome.min.css&quot;/&gt;\n",
              "    &lt;link rel=&quot;stylesheet&quot; href=&quot;https://cdnjs.cloudflare.com/ajax/libs/Leaflet.awesome-markers/2.0.2/leaflet.awesome-markers.css&quot;/&gt;\n",
              "    &lt;link rel=&quot;stylesheet&quot; href=&quot;https://cdn.jsdelivr.net/gh/python-visualization/folium/folium/templates/leaflet.awesome.rotate.min.css&quot;/&gt;\n",
              "    \n",
              "            &lt;meta name=&quot;viewport&quot; content=&quot;width=device-width,\n",
              "                initial-scale=1.0, maximum-scale=1.0, user-scalable=no&quot; /&gt;\n",
              "            &lt;style&gt;\n",
              "                #map_472123c25fadccf487c338c041dba3a4 {\n",
              "                    position: relative;\n",
              "                    width: 100.0%;\n",
              "                    height: 100.0%;\n",
              "                    left: 0.0%;\n",
              "                    top: 0.0%;\n",
              "                }\n",
              "            &lt;/style&gt;\n",
              "        \n",
              "&lt;/head&gt;\n",
              "&lt;body&gt;    \n",
              "    \n",
              "            &lt;div class=&quot;folium-map&quot; id=&quot;map_472123c25fadccf487c338c041dba3a4&quot; &gt;&lt;/div&gt;\n",
              "        \n",
              "&lt;/body&gt;\n",
              "&lt;script&gt;    \n",
              "    \n",
              "            var map_472123c25fadccf487c338c041dba3a4 = L.map(\n",
              "                &quot;map_472123c25fadccf487c338c041dba3a4&quot;,\n",
              "                {\n",
              "                    center: [11.8251, 42.5903],\n",
              "                    crs: L.CRS.EPSG3857,\n",
              "                    zoom: 4,\n",
              "                    zoomControl: true,\n",
              "                    preferCanvas: false,\n",
              "                }\n",
              "            );\n",
              "\n",
              "            \n",
              "\n",
              "        \n",
              "    \n",
              "            var tile_layer_0d7715f16da09dfadfef62081a62cae9 = L.tileLayer(\n",
              "                &quot;https://{s}.tile.openstreetmap.org/{z}/{x}/{y}.png&quot;,\n",
              "                {&quot;attribution&quot;: &quot;Data by \\u0026copy; \\u003ca href=\\&quot;http://openstreetmap.org\\&quot;\\u003eOpenStreetMap\\u003c/a\\u003e, under \\u003ca href=\\&quot;http://www.openstreetmap.org/copyright\\&quot;\\u003eODbL\\u003c/a\\u003e.&quot;, &quot;detectRetina&quot;: false, &quot;maxNativeZoom&quot;: 18, &quot;maxZoom&quot;: 18, &quot;minZoom&quot;: 0, &quot;noWrap&quot;: false, &quot;opacity&quot;: 1, &quot;subdomains&quot;: &quot;abc&quot;, &quot;tms&quot;: false}\n",
              "            ).addTo(map_472123c25fadccf487c338c041dba3a4);\n",
              "        \n",
              "    \n",
              "            var poly_line_283339ec706d8eca35fec8037dd31690 = L.polyline(\n",
              "                [[11.0036111, 42.1025], [11.5833333, 43.15], [11.595, 43.1480556], [11.6, 43.15], [11.5694444, 43.1366667], [11.4611111, 43.252777800000004], [11.4855556, 43.187222199999994], [11.3102778, 42.9294444], [11.2975, 42.853333299999996], [11.1558333, 42.7125], [11.183333300000001, 42.9333333], [11.1333333, 42.8858333], [11.4166667, 42.9833333], [11.5030556, 42.8552778], [11.5222222, 42.8419444], [11.4238889, 43.000277800000006], [11.9630556, 43.2905556], [11.9730556, 43.0261111], [11.8469444, 42.6605556], [11.822777799999999, 42.6736111], [11.7702778, 42.6519444], [12.1494444, 42.4775], [12.3, 42.4333333], [12.058333300000001, 42.1955556], [11.7158333, 41.836111100000004], [12.2869444, 43.3555556], [12.3633333, 43.1891667], [12.3558333, 43.156388899999996], [12.645, 42.9733333], [12.4216667, 42.8955556], [12.3727778, 42.711388899999996], [12.3866667, 43.334722199999995], [11.7852778, 42.8844444], [11.7511111, 42.8144444], [11.6905556, 42.6866667], [11.5113889, 42.1063889], [11.108611100000001, 42.3738889], [11.4383333, 42.0572222], [11.0036111, 42.1025]],\n",
              "                {&quot;bubblingMouseEvents&quot;: true, &quot;color&quot;: &quot;#3388ff&quot;, &quot;dashArray&quot;: null, &quot;dashOffset&quot;: null, &quot;fill&quot;: false, &quot;fillColor&quot;: &quot;#3388ff&quot;, &quot;fillOpacity&quot;: 0.2, &quot;fillRule&quot;: &quot;evenodd&quot;, &quot;lineCap&quot;: &quot;round&quot;, &quot;lineJoin&quot;: &quot;round&quot;, &quot;noClip&quot;: false, &quot;opacity&quot;: 1.0, &quot;smoothFactor&quot;: 1.0, &quot;stroke&quot;: true, &quot;weight&quot;: 3}\n",
              "            ).addTo(map_472123c25fadccf487c338c041dba3a4);\n",
              "        \n",
              "&lt;/script&gt;\" style=\"position:absolute;width:100%;height:100%;left:0;top:0;border:none !important;\" allowfullscreen webkitallowfullscreen mozallowfullscreen></iframe></div></div>"
            ]
          },
          "metadata": {},
          "execution_count": 44
        }
      ],
      "source": [
        "# Map the solution\n",
        "\n",
        "import folium\n",
        "\n",
        "map = folium.Map(location=[11.8251,42.5903], zoom_start = 4)\n",
        "\n",
        "points = []\n",
        "for city in tour:\n",
        "  i = coordinates[city][0]/1000\n",
        "  j = coordinates[city][1]/1000\n",
        "  points.append((i, j))\n",
        "points.append(points[0])\n",
        "\n",
        "folium.PolyLine(points).add_to(map)\n",
        "\n",
        "map"
      ]
    },
    {
      "cell_type": "code",
      "source": [
        "sol_path = {0: 16, 1: 9, 2: 7, 3: 4, 4: 2, 5: 3, 6: 5, 7: 12, 8: 26, 9: 0, 10: 11, 11: 6, 12: 14, 13: 1, 14: 8, 15: 10, 16: 17, 17: 18, 18: 15, 19: 13, 20: 30, 21: 19, 22: 29, 23: 21, 24: 22, 25: 24, 26: 27, 27: 25, 28: 20, 29: 31, 30: 33, 31: 28, 32: 37, 33: 32, 34: 35, 35: 23, 36: 34, 37: 36}"
      ],
      "metadata": {
        "id": "gZSLXkf5K3dE"
      },
      "execution_count": 23,
      "outputs": []
    },
    {
      "cell_type": "code",
      "source": [
        "path = []\n",
        "m = list(sol_path.keys())[0]\n",
        "path.append(str(m+1))\n",
        "for _ in range(37):\n",
        "  path.append(str(sol_path[m]+1))\n",
        "  m = sol_path[m]"
      ],
      "metadata": {
        "id": "a4C2UZw-OIfM"
      },
      "execution_count": 41,
      "outputs": []
    },
    {
      "cell_type": "code",
      "source": [
        "path"
      ],
      "metadata": {
        "id": "J1yTeOvjOVSn",
        "outputId": "b496568d-4387-47d5-fdaa-0c41772ce5a7",
        "colab": {
          "base_uri": "https://localhost:8080/"
        }
      },
      "execution_count": 42,
      "outputs": [
        {
          "output_type": "execute_result",
          "data": {
            "text/plain": [
              "['1',\n",
              " '17',\n",
              " '18',\n",
              " '19',\n",
              " '16',\n",
              " '11',\n",
              " '12',\n",
              " '7',\n",
              " '6',\n",
              " '4',\n",
              " '5',\n",
              " '3',\n",
              " '8',\n",
              " '13',\n",
              " '15',\n",
              " '9',\n",
              " '27',\n",
              " '28',\n",
              " '26',\n",
              " '25',\n",
              " '23',\n",
              " '30',\n",
              " '32',\n",
              " '29',\n",
              " '21',\n",
              " '31',\n",
              " '34',\n",
              " '33',\n",
              " '38',\n",
              " '37',\n",
              " '35',\n",
              " '36',\n",
              " '24',\n",
              " '22',\n",
              " '20',\n",
              " '14',\n",
              " '2',\n",
              " '10']"
            ]
          },
          "metadata": {},
          "execution_count": 42
        }
      ]
    },
    {
      "cell_type": "markdown",
      "metadata": {
        "id": "aukz6jYPCdgN"
      },
      "source": [
        "## Conclusions\n",
        "\n",
        "The Traveling Salesman Problem (TSP) is the most popular combinatorial optimization problem. This problem is very easy to explain, although it is very complicated to solve. The largest TSP problem solved has 85,900 cities. The TSP is a source of discovery for new approaches to solve complex combinatorial optimization problems and has led to many applications.\n",
        "\n",
        "In this modeling example, we have shown how to formulate the symmetric Traveling Salesman Problem as a MIP problem. We also showed how to dynamically eliminate subtours by using lazy constraints. "
      ]
    },
    {
      "cell_type": "markdown",
      "metadata": {
        "id": "hzS2LEg4CdgN"
      },
      "source": [
        "## References\n",
        "\n",
        "[1] D. L. Applegate, R. E. Bixby, V. Chvatal and W. J. Cook , The Traveling Salesman Problem: A Computational Study, Princeton University Press, Princeton, 2006.\n",
        "\n",
        "[2] http://www.math.uwaterloo.ca/tsp/index.html\n",
        "\n",
        "[3] https://www.youtube.com/watch?v=q8nQTNvCrjE&t=35s\n",
        "\n",
        "[4] http://www.math.uwaterloo.ca/tsp/concorde.html"
      ]
    },
    {
      "cell_type": "markdown",
      "metadata": {
        "id": "XGuYDqN5CdgN"
      },
      "source": [
        "Copyright © 2020 Gurobi Optimization, LLC"
      ]
    }
  ],
  "metadata": {
    "kernelspec": {
      "display_name": "Python 3",
      "language": "python",
      "name": "python3"
    },
    "language_info": {
      "codemirror_mode": {
        "name": "ipython",
        "version": 3
      },
      "file_extension": ".py",
      "mimetype": "text/x-python",
      "name": "python",
      "nbconvert_exporter": "python",
      "pygments_lexer": "ipython3",
      "version": "3.8.2"
    },
    "colab": {
      "name": "tsp_gcl.ipynb",
      "provenance": []
    }
  },
  "nbformat": 4,
  "nbformat_minor": 0
}